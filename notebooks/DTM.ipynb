{
  "nbformat": 4,
  "nbformat_minor": 0,
  "metadata": {
    "colab": {
      "name": "DTM.ipynb",
      "provenance": [],
      "collapsed_sections": [],
      "authorship_tag": "ABX9TyOQ58SXwv9e3FrM7rQmOCrw",
      "include_colab_link": true
    },
    "kernelspec": {
      "name": "python3",
      "display_name": "Python 3"
    }
  },
  "cells": [
    {
      "cell_type": "markdown",
      "metadata": {
        "id": "view-in-github",
        "colab_type": "text"
      },
      "source": [
        "<a href=\"https://colab.research.google.com/github/Benten559/Project150/blob/master/DTM.ipynb\" target=\"_parent\"><img src=\"https://colab.research.google.com/assets/colab-badge.svg\" alt=\"Open In Colab\"/></a>"
      ]
    },
    {
      "cell_type": "code",
      "metadata": {
        "id": "641ZpycyhiGI",
        "outputId": "5ad85ab1-ed24-4182-c8d0-55be71892a75",
        "colab": {
          "base_uri": "https://localhost:8080/",
          "height": 55
        }
      },
      "source": [
        "import pandas as pd\n",
        "import numpy as np\n",
        "import seaborn as sns\n",
        "import matplotlib.pyplot as plt\n",
        "# Follow the link this code box provides and log in. \n",
        "# Copy and paste the password given to access shared drive files\n",
        "from google.colab import drive\n",
        "drive.mount('/content/drive/')"
      ],
      "execution_count": null,
      "outputs": [
        {
          "output_type": "stream",
          "text": [
            "Drive already mounted at /content/drive/; to attempt to forcibly remount, call drive.mount(\"/content/drive/\", force_remount=True).\n"
          ],
          "name": "stdout"
        }
      ]
    },
    {
      "cell_type": "markdown",
      "metadata": {
        "id": "bFfIdcdCBxVA"
      },
      "source": [
        "Creating the Decision tree model (DTM)\n",
        "<br>\n",
        "This code consists of two main goals:\n",
        "* Creating a trained DTM on our split data set\n",
        "  * testing accuracy of model\n",
        "* Serializing model into deployable file type\n",
        "\n"
      ]
    },
    {
      "cell_type": "code",
      "metadata": {
        "id": "P77fnm3cis8k"
      },
      "source": [
        "#loading data set for training\n",
        "X = pd.read_csv('/content/drive/Shared drives/CS150Project/sharedCode/datasource/training_data.csv')\n",
        "test = pd.read_csv('/content/drive/Shared drives/CS150Project/sharedCode/datasource/test_data.csv')"
      ],
      "execution_count": null,
      "outputs": []
    },
    {
      "cell_type": "code",
      "metadata": {
        "id": "bMH3c-vKUstH",
        "outputId": "7fa068d3-f6e4-4908-86fc-332e7ae0562a",
        "colab": {
          "base_uri": "https://localhost:8080/",
          "height": 127
        }
      },
      "source": [
        "#creating model\n",
        "from sklearn.tree import DecisionTreeClassifier\n",
        "DTM = DecisionTreeClassifier(min_samples_split=2)\n",
        "\n",
        "# establishing training and target data, also cleaning out uneccessary columns\n",
        "y = X['prognosis']\n",
        "X = X.drop(labels=['prognosis','Unnamed: 133'],axis = 1)\n",
        "testTarget = test['prognosis']\n",
        "testInput = test.drop(labels=['prognosis'],axis = 1 )\n",
        "# training model\n",
        "DTM.fit(X,y)"
      ],
      "execution_count": null,
      "outputs": [
        {
          "output_type": "execute_result",
          "data": {
            "text/plain": [
              "DecisionTreeClassifier(ccp_alpha=0.0, class_weight=None, criterion='gini',\n",
              "                       max_depth=None, max_features=None, max_leaf_nodes=None,\n",
              "                       min_impurity_decrease=0.0, min_impurity_split=None,\n",
              "                       min_samples_leaf=1, min_samples_split=2,\n",
              "                       min_weight_fraction_leaf=0.0, presort='deprecated',\n",
              "                       random_state=None, splitter='best')"
            ]
          },
          "metadata": {
            "tags": []
          },
          "execution_count": 58
        }
      ]
    },
    {
      "cell_type": "code",
      "metadata": {
        "id": "04PVla99eEY9",
        "outputId": "3f97e75e-f66e-45c3-bbf7-1ceb343285b3",
        "colab": {
          "base_uri": "https://localhost:8080/",
          "height": 35
        }
      },
      "source": [
        "# Evaluating model after training by use of a test subset of the data\n",
        "accuracy = DTM.score(testInput,testTarget) * 100\n",
        "print(\"model accuracy is: \", accuracy, \"%\")"
      ],
      "execution_count": null,
      "outputs": [
        {
          "output_type": "stream",
          "text": [
            "model accuracy is:  97.61904761904762 %\n"
          ],
          "name": "stdout"
        }
      ]
    },
    {
      "cell_type": "code",
      "metadata": {
        "id": "Ep7u-9ft44tE"
      },
      "source": [
        ""
      ],
      "execution_count": null,
      "outputs": []
    },
    {
      "cell_type": "code",
      "metadata": {
        "id": "6dU42zPfN5ZW",
        "outputId": "601d5a11-5c0e-406a-c746-e15408b2f065",
        "colab": {
          "base_uri": "https://localhost:8080/",
          "height": 35
        }
      },
      "source": [
        "#New DF for just symptoms\n",
        "b = a[a.columns[1:]]\n",
        "symptoms = b.columns\n",
        "# To find all unique symptoms within the data\n",
        "xSeries = set()\n",
        "\n",
        "for x in symptoms:\n",
        "  temp= set(b[x].value_counts().keys())\n",
        "  for i in temp:\n",
        "    xSeries.add(i)\n",
        "#convert to list format again\n",
        "xSeries = list(xSeries)\n",
        "print(\"Total number of symptoms: \",+ len(xSeries))\n",
        "  \n"
      ],
      "execution_count": null,
      "outputs": [
        {
          "output_type": "stream",
          "text": [
            "Total number of symptoms:  132\n"
          ],
          "name": "stdout"
        }
      ]
    },
    {
      "cell_type": "code",
      "metadata": {
        "id": "Hbwq3x8STZvL"
      },
      "source": [
        "from sklearn.preprocessing import OneHotEncoder\n",
        "x_enc = OneHotEncoder()\n",
        "trainX = x_enc.fit_transform(b)"
      ],
      "execution_count": null,
      "outputs": []
    },
    {
      "cell_type": "code",
      "metadata": {
        "id": "2W82CHlYP2W0"
      },
      "source": [
        "# All the diseases numerically labeled\n",
        "print(a_enc)\n",
        "print(le.classes_)"
      ],
      "execution_count": null,
      "outputs": []
    },
    {
      "cell_type": "code",
      "metadata": {
        "id": "P1qpeoRvQ4aO"
      },
      "source": [
        ""
      ],
      "execution_count": null,
      "outputs": []
    }
  ]
}
{
  "nbformat": 4,
  "nbformat_minor": 0,
  "metadata": {
    "colab": {
      "name": "dbmodel.ipynb",
      "provenance": [],
      "collapsed_sections": [],
      "mount_file_id": "1rDoaBE8caqfKQFpXV6Fvarw3yolm-lAw",
      "authorship_tag": "ABX9TyNdT69g46H3ems57o8oWjF9",
      "include_colab_link": true
    },
    "kernelspec": {
      "name": "python3",
      "display_name": "Python 3"
    }
  },
  "cells": [
    {
      "cell_type": "markdown",
      "metadata": {
        "id": "view-in-github",
        "colab_type": "text"
      },
      "source": [
        "<a href=\"https://colab.research.google.com/github/Benten559/Project150/blob/master/dbmodel.ipynb\" target=\"_parent\"><img src=\"https://colab.research.google.com/assets/colab-badge.svg\" alt=\"Open In Colab\"/></a>"
      ]
    },
    {
      "cell_type": "code",
      "metadata": {
        "id": "VKhmsxy52Oph",
        "outputId": "23686da3-3edd-4376-f75d-2a51d7846a78",
        "colab": {
          "base_uri": "https://localhost:8080/",
          "height": 35
        }
      },
      "source": [
        "from google.colab import drive\n",
        "drive.mount('/gdrive',force_remount=True)"
      ],
      "execution_count": 1,
      "outputs": [
        {
          "output_type": "stream",
          "text": [
            "Mounted at /gdrive\n"
          ],
          "name": "stdout"
        }
      ]
    },
    {
      "cell_type": "code",
      "metadata": {
        "id": "Gl2aZad71rXs"
      },
      "source": [
        "import pandas as pd\n",
        "import sqlite3\n"
      ],
      "execution_count": 2,
      "outputs": []
    },
    {
      "cell_type": "code",
      "metadata": {
        "id": "ZI7bCGw72qw9"
      },
      "source": [
        "# saving the database path to share drive\n",
        "path = '/content/drive/Shared drives/CS150Project/sharedCode/db2.db'\n",
        "conn = sqlite3.connect(path)"
      ],
      "execution_count": 3,
      "outputs": []
    },
    {
      "cell_type": "code",
      "metadata": {
        "id": "hohNelFM4_C-"
      },
      "source": [
        "c = conn.cursor()\n"
      ],
      "execution_count": 4,
      "outputs": []
    },
    {
      "cell_type": "code",
      "metadata": {
        "id": "F-SGW3QyB1GT"
      },
      "source": [
        "def create_table(conn, create_table_sql):\n",
        "    \"\"\" create a table from the create_table_sql statement\n",
        "    :param conn: Connection object\n",
        "    :param create_table_sql: a CREATE TABLE statement\n",
        "    :return:\n",
        "    \"\"\"\n",
        "    try:\n",
        "        c = conn.cursor()\n",
        "        c.execute(create_table_sql)\n",
        "    except Error as e:\n",
        "        print(e)"
      ],
      "execution_count": 5,
      "outputs": []
    },
    {
      "cell_type": "code",
      "metadata": {
        "id": "DmBlS33D-HuS"
      },
      "source": [
        "userRegTable = \"\"\" CREATE TABLE IF NOT EXISTS projects (\n",
        "                                        name text NOT NULL,\n",
        "                                        password text NOT NULL,\n",
        "                                        email text NOT NULL\n",
        "                           ); \"\"\"\n",
        "# features to add later:\n",
        "# id integer PRIMARY KEY"
      ],
      "execution_count": 6,
      "outputs": []
    },
    {
      "cell_type": "code",
      "metadata": {
        "id": "1rTgNe-y2qmP"
      },
      "source": [
        "create_table(conn,userRegTable)"
      ],
      "execution_count": 7,
      "outputs": []
    },
    {
      "cell_type": "code",
      "metadata": {
        "id": "QH8cThHrCKdi"
      },
      "source": [
        "conn.commit()"
      ],
      "execution_count": 8,
      "outputs": []
    },
    {
      "cell_type": "code",
      "metadata": {
        "id": "TFOSpX06Ed4A"
      },
      "source": [
        "conn.close()"
      ],
      "execution_count": 9,
      "outputs": []
    },
    {
      "cell_type": "code",
      "metadata": {
        "id": "nC7S-EUkb_7o"
      },
      "source": [
        ""
      ],
      "execution_count": null,
      "outputs": []
    }
  ]
}